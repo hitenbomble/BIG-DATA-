{
  "nbformat": 4,
  "nbformat_minor": 0,
  "metadata": {
    "colab": {
      "name": "Pattern Programming Questions.ipynb",
      "provenance": [],
      "collapsed_sections": [],
      "toc_visible": true,
      "authorship_tag": "ABX9TyMrfB+2/PcIy359RJ1cs6g3",
      "include_colab_link": true
    },
    "kernelspec": {
      "name": "python3",
      "display_name": "Python 3"
    },
    "language_info": {
      "name": "python"
    }
  },
  "cells": [
    {
      "cell_type": "markdown",
      "metadata": {
        "id": "view-in-github",
        "colab_type": "text"
      },
      "source": [
        "<a href=\"https://colab.research.google.com/github/hitenbomble/BIG-DATA-/blob/main/Pattern_Programming_Questions.ipynb\" target=\"_parent\"><img src=\"https://colab.research.google.com/assets/colab-badge.svg\" alt=\"Open In Colab\"/></a>"
      ]
    },
    {
      "cell_type": "markdown",
      "metadata": {
        "id": "jY8I3YNwb3dp"
      },
      "source": [
        "# **BIG DATA Assignment 1**\n",
        "## **Hiten Bomble**\n",
        "### **SIRSS2311**"
      ]
    },
    {
      "cell_type": "markdown",
      "metadata": {
        "id": "GkNgzivFUWhA"
      },
      "source": [
        "**Starting of the Numericals** \n",
        "\n"
      ]
    },
    {
      "cell_type": "code",
      "metadata": {
        "id": "BYKLsNT8bcC-",
        "colab": {
          "base_uri": "https://localhost:8080/"
        },
        "outputId": "40fa7c86-c805-462f-f558-a858fd84d63a"
      },
      "source": [
        "# 1. Code\n",
        "n=int(input(\"Enter the Number of Rows: \"))\n",
        "# n=5\n",
        "for i in range(n,0,-1):\n",
        "  for j in range (0,i):\n",
        "    print(n,end='')\n",
        "  print() "
      ],
      "execution_count": null,
      "outputs": [
        {
          "output_type": "stream",
          "text": [
            "Enter the Number of Rows: 5\n",
            "55555\n",
            "5555\n",
            "555\n",
            "55\n",
            "5\n"
          ],
          "name": "stdout"
        }
      ]
    },
    {
      "cell_type": "code",
      "metadata": {
        "id": "IBlDSkQAp9D2",
        "colab": {
          "base_uri": "https://localhost:8080/"
        },
        "outputId": "6eb44120-8789-4cb4-81b4-6eb54bc56247"
      },
      "source": [
        "# 2. Code\n",
        "n=int(input(\"Enter the Number of Rows: \"))\n",
        "# n=5\n",
        "k=0\n",
        "for i in range (n,0,-1):\n",
        "  k+=1\n",
        "  for j in range(0,i+1):\n",
        "    print(j,end='')\n",
        "  print(\" \")"
      ],
      "execution_count": null,
      "outputs": [
        {
          "output_type": "stream",
          "text": [
            "Enter the Number of Rows: 5\n",
            "012345 \n",
            "01234 \n",
            "0123 \n",
            "012 \n",
            "01 \n"
          ],
          "name": "stdout"
        }
      ]
    },
    {
      "cell_type": "code",
      "metadata": {
        "id": "YFAs1MNKs3d-",
        "colab": {
          "base_uri": "https://localhost:8080/"
        },
        "outputId": "31563456-517b-4065-adb5-72a065c10243"
      },
      "source": [
        "# 3. Code\n",
        "n=int(input(\"Enter the Number of Rows: \"))\n",
        "# n=5\n",
        "k=-1\n",
        "for i in range (n):\n",
        "  k+=2\n",
        "  for j in range(i+1):\n",
        "    print(k,end=' ')\n",
        "  print(\" \")"
      ],
      "execution_count": null,
      "outputs": [
        {
          "output_type": "stream",
          "text": [
            "Enter the Number of Rows: 5\n",
            "1  \n",
            "3 3  \n",
            "5 5 5  \n",
            "7 7 7 7  \n",
            "9 9 9 9 9  \n"
          ],
          "name": "stdout"
        }
      ]
    },
    {
      "cell_type": "code",
      "metadata": {
        "id": "_bvuzgXW68No",
        "colab": {
          "base_uri": "https://localhost:8080/"
        },
        "outputId": "1d69aa54-384e-406f-e621-02ff99e09205"
      },
      "source": [
        "# 4. Code\n",
        "n=int(input(\"Enter the Number of Rows: \"))\n",
        "# n=5\n",
        "for i in range(n+2):\n",
        "  for j in range(i-1,0,-1):\n",
        "    print(j,end=\" \")\n",
        "  print(' ')"
      ],
      "execution_count": null,
      "outputs": [
        {
          "output_type": "stream",
          "text": [
            "Enter the Number of Rows: 5\n",
            " \n",
            " \n",
            "1  \n",
            "2 1  \n",
            "3 2 1  \n",
            "4 3 2 1  \n",
            "5 4 3 2 1  \n"
          ],
          "name": "stdout"
        }
      ]
    },
    {
      "cell_type": "code",
      "metadata": {
        "id": "xAe63eu4q51F",
        "colab": {
          "base_uri": "https://localhost:8080/"
        },
        "outputId": "f2a0a0fc-bf8b-4929-f10a-c1f9e3d40155"
      },
      "source": [
        "# 5. Code\n",
        "n=int(input(\"Enter the numbers: \" ))\n",
        "start = 1\n",
        "stop = 2\n",
        "currentNumber = stop\n",
        "for row in range(stop, n):\n",
        "    for col in range(start, stop):\n",
        "        currentNumber -= 1\n",
        "        print(currentNumber , end=' ')\n",
        "    print(\" \")\n",
        "    start = stop\n",
        "    stop += row\n",
        "    currentNumber = stop"
      ],
      "execution_count": null,
      "outputs": [
        {
          "output_type": "stream",
          "text": [
            "Enter the numbers: 6\n",
            "1  \n",
            "3 2  \n",
            "6 5 4  \n",
            "10 9 8 7  \n"
          ],
          "name": "stdout"
        }
      ]
    },
    {
      "cell_type": "code",
      "metadata": {
        "id": "tvAy-8UW2BzI",
        "colab": {
          "base_uri": "https://localhost:8080/"
        },
        "outputId": "d699bb5f-8340-45c5-dea1-db31340cc560"
      },
      "source": [
        "# 6. Code\n",
        "# n=7\n",
        "def decide_number(n, k):\n",
        "    num = 1\n",
        "    if k > n - k:\n",
        "        k = n - k\n",
        "    for i in range(0, k):\n",
        "        num = num * (n - i)\n",
        "        num = num // (i + 1)\n",
        "    return num\n",
        "\n",
        "size=int(input(\"Enter the number of Rows: \" ))\n",
        "for i in range(0, size):\n",
        "    for j in range(0, i + 1):\n",
        "        print(decide_number(i, j), end=\" \")\n",
        "    print()"
      ],
      "execution_count": 33,
      "outputs": [
        {
          "output_type": "stream",
          "text": [
            "Enter the number of Rows: 7\n",
            "1 \n",
            "1 1 \n",
            "1 2 1 \n",
            "1 3 3 1 \n",
            "1 4 6 4 1 \n",
            "1 5 10 10 5 1 \n",
            "1 6 15 20 15 6 1 \n"
          ],
          "name": "stdout"
        }
      ]
    },
    {
      "cell_type": "code",
      "metadata": {
        "id": "FPz3JSVH26kA",
        "colab": {
          "base_uri": "https://localhost:8080/"
        },
        "outputId": "1c1f4084-d336-42cc-de94-e8c041fc79f5"
      },
      "source": [
        "# 7. Code\n",
        "rows=int(input(\"Enter the number of Rows: \" ))\n",
        "for i in range(1, rows + 1):\n",
        "    for j in range(1, rows + 1):\n",
        "        if j <= i:\n",
        "            print(i, end=' ')\n",
        "        else:\n",
        "            print(j, end=' ')\n",
        "    print()"
      ],
      "execution_count": null,
      "outputs": [
        {
          "output_type": "stream",
          "text": [
            "Enter the number of Rows: 5\n",
            "1 2 3 4 5 \n",
            "2 2 3 4 5 \n",
            "3 3 3 4 5 \n",
            "4 4 4 4 5 \n",
            "5 5 5 5 5 \n"
          ],
          "name": "stdout"
        }
      ]
    },
    {
      "cell_type": "code",
      "metadata": {
        "id": "PhLMIDqH5cSe",
        "colab": {
          "base_uri": "https://localhost:8080/"
        },
        "outputId": "5738dbae-9e32-43b3-fc4e-5ee266d55311"
      },
      "source": [
        "# 8. Code\n",
        "rows = int(input(\"Enter the number of rows \"))\n",
        "for i in range(1, rows + 1):\n",
        "    for j in range(1, i + 1):\n",
        "        # multiplication current column and row\n",
        "        # square = i * j\n",
        "        print(i * j, end=' ')\n",
        "    print()"
      ],
      "execution_count": null,
      "outputs": [
        {
          "output_type": "stream",
          "text": [
            "Enter the number of rows 8\n",
            "1 \n",
            "2 4 \n",
            "3 6 9 \n",
            "4 8 12 16 \n",
            "5 10 15 20 25 \n",
            "6 12 18 24 30 36 \n",
            "7 14 21 28 35 42 49 \n",
            "8 16 24 32 40 48 56 64 \n"
          ],
          "name": "stdout"
        }
      ]
    },
    {
      "cell_type": "markdown",
      "metadata": {
        "id": "Lggyac7oURAQ"
      },
      "source": [
        "**Starting For the Stars (*)** \n",
        "\n"
      ]
    },
    {
      "cell_type": "code",
      "metadata": {
        "id": "Ijsga1hYjYWK",
        "colab": {
          "base_uri": "https://localhost:8080/"
        },
        "outputId": "0d6c41d3-28f9-41bc-f243-c07fed4c4572"
      },
      "source": [
        "# 9. Code\n",
        "n=int(input(\"Enter the Number of Rows\"))\n",
        "# n=6\n",
        "for i in range(n,0,-1):\n",
        "  for j in range (0,i):\n",
        "    print(\"*\",end=\"\")\n",
        "  print()\n"
      ],
      "execution_count": null,
      "outputs": [
        {
          "output_type": "stream",
          "text": [
            "Enter the Number of Rows6\n",
            "******\n",
            "*****\n",
            "****\n",
            "***\n",
            "**\n",
            "*\n"
          ],
          "name": "stdout"
        }
      ]
    },
    {
      "cell_type": "code",
      "metadata": {
        "id": "oYd9WahpZ3En",
        "colab": {
          "base_uri": "https://localhost:8080/"
        },
        "outputId": "745de923-1c4b-4462-f2b2-54b10545f9ec"
      },
      "source": [
        "# 10. Code\n",
        "n= int(input(\"Enter the number of rows \"))\n",
        "# n=7\n",
        "for i in range (0,n):\n",
        "  for j in range (0,i+1):\n",
        "    print(\"*\", end=\"\")\n",
        "  print()\n"
      ],
      "execution_count": null,
      "outputs": [
        {
          "output_type": "stream",
          "text": [
            "Enter the number of rows 7\n",
            "*\n",
            "**\n",
            "***\n",
            "****\n",
            "*****\n",
            "******\n",
            "*******\n"
          ],
          "name": "stdout"
        }
      ]
    },
    {
      "cell_type": "code",
      "metadata": {
        "id": "WN0zmVUE_gcw",
        "colab": {
          "base_uri": "https://localhost:8080/"
        },
        "outputId": "c155b1de-bc4e-4010-a1a8-931fa2263d5e"
      },
      "source": [
        "# 11. Code\n",
        "n=int(input(\"Enter the Number of Rows\"))\n",
        "# n=6\n",
        "for i in range(0,n):\n",
        "  for j in range (0,i+1):\n",
        "    print(\"*\",end=\"\")\n",
        "  print()\n",
        "print('')\n",
        "for i in range(n,0,-1):\n",
        "  for j in range (0,i):\n",
        "    print(\"*\",end=\"\")\n",
        "  print()"
      ],
      "execution_count": null,
      "outputs": [
        {
          "output_type": "stream",
          "text": [
            "Enter the Number of Rows6\n",
            "*\n",
            "**\n",
            "***\n",
            "****\n",
            "*****\n",
            "******\n",
            "\n",
            "******\n",
            "*****\n",
            "****\n",
            "***\n",
            "**\n",
            "*\n"
          ],
          "name": "stdout"
        }
      ]
    },
    {
      "cell_type": "code",
      "metadata": {
        "id": "C24_6smWkcpi",
        "colab": {
          "base_uri": "https://localhost:8080/"
        },
        "outputId": "25014244-a5a4-463c-e8b9-ffb16f8a80ec"
      },
      "source": [
        "# 12. Code\n",
        "n=int(input(\"Enter the Number of Rows\"))\n",
        "# n=5\n",
        "for i in range(0,n):\n",
        "  for j in range (0,i):\n",
        "    print(\"*\",end=\"\")\n",
        "  print()\n",
        "for i in range(n,0,-1):\n",
        "  for j in range (0,i):\n",
        "    print(\"*\",end=\"\")\n",
        "  print()\n"
      ],
      "execution_count": null,
      "outputs": [
        {
          "output_type": "stream",
          "text": [
            "Enter the Number of Rows5\n",
            "\n",
            "*\n",
            "**\n",
            "***\n",
            "****\n",
            "*****\n",
            "****\n",
            "***\n",
            "**\n",
            "*\n"
          ],
          "name": "stdout"
        }
      ]
    },
    {
      "cell_type": "code",
      "metadata": {
        "colab": {
          "base_uri": "https://localhost:8080/"
        },
        "id": "0UC54ezMV41K",
        "outputId": "041bddc0-59fa-4e47-a21c-2a5ac22b7a69"
      },
      "source": [
        "# 13. Code\n",
        "n=int(input(\"Enter the Number of Rows\"))\n",
        "# n=5\n",
        "for i in range(0,n):\n",
        "  for j in range (0,i):\n",
        "    print(\"*\",end=\"\")\n",
        "  print()\n",
        "for i in range(n,0,-1):\n",
        "  for j in range (0,i):\n",
        "    print(\"*\",end=\"\")\n",
        "  print()"
      ],
      "execution_count": null,
      "outputs": [
        {
          "output_type": "stream",
          "text": [
            "Enter the Number of Rows5\n",
            "\n",
            "*\n",
            "**\n",
            "***\n",
            "****\n",
            "*****\n",
            "****\n",
            "***\n",
            "**\n",
            "*\n"
          ],
          "name": "stdout"
        }
      ]
    },
    {
      "cell_type": "code",
      "metadata": {
        "id": "P1djISgV_j1c",
        "colab": {
          "base_uri": "https://localhost:8080/"
        },
        "outputId": "50549f4b-1feb-4b1e-9645-1a9bbe114410"
      },
      "source": [
        "# 14. Code\n",
        "n=int(input(\"Enter the Number of Rows\"))\n",
        "# n=6\n",
        "for i in range(0,n):\n",
        "  for j in range (0,i):\n",
        "    print(\"*\",end=\"\")\n",
        "  print()\n",
        "for i in range(n,0,-1):\n",
        "  for j in range (0,i):\n",
        "    print(\"*\",end=\"\")\n",
        "  print()n = int(input(\"Enter the number of rows \"))\n",
        "# n=5\n",
        "for i in range(n,0,-1):\n",
        "  for j in range (0,i):\n",
        "    print(\"*\",end=\"\")\n",
        "  print()\n",
        "for i in range(0,n):\n",
        "  for j in range (0,i+1):\n",
        "    print(\"*\",end=\"\")\n",
        "  print()"
      ],
      "execution_count": null,
      "outputs": [
        {
          "output_type": "stream",
          "text": [
            "Enter the number of rows 5\n",
            "*****\n",
            "****\n",
            "***\n",
            "**\n",
            "*\n",
            "*\n",
            "**\n",
            "***\n",
            "****\n",
            "*****\n"
          ],
          "name": "stdout"
        }
      ]
    },
    {
      "cell_type": "code",
      "metadata": {
        "id": "w9J6OGdc6iUo",
        "colab": {
          "base_uri": "https://localhost:8080/"
        },
        "outputId": "2b516179-0a8f-4225-def5-729949f02094"
      },
      "source": [
        "# 15. Code\n",
        "n=int(input(\"Enter the Number of Rows\"))\n",
        "# n=6\n",
        "for i in range(0,n):\n",
        "  for j in range (0,i):\n",
        "    print(\"*\",end=\"\")\n",
        "  print()\n",
        "for i in range(n,0,-1):\n",
        "  for j in range (0,i):\n",
        "    print(\"*\",end=\"\")\n",
        "  print()\n",
        "rows = int(input(\"Enter the number of rows \"))\n",
        "# rows=16\n",
        "print(\"*\" * rows, end=\"\\n\")\n",
        "# print()\n",
        "i = (rows // 2) - 1\n",
        "j = 2\n",
        "while i != 0:\n",
        "    while j <= (rows - 2):\n",
        "        print(\"*\" * i, end=\"\")\n",
        "        print(\"_\" * j, end=\"\")\n",
        "        print(\"*\" * i, end=\"\\n\")\n",
        "        i-=1\n",
        "        j+=2"
      ],
      "execution_count": null,
      "outputs": [
        {
          "output_type": "stream",
          "text": [
            "Enter the number of rows 16\n",
            "****************\n",
            "*******__*******\n",
            "******____******\n",
            "*****______*****\n",
            "****________****\n",
            "***__________***\n",
            "**____________**\n",
            "*______________*\n"
          ],
          "name": "stdout"
        }
      ]
    },
    {
      "cell_type": "code",
      "metadata": {
        "id": "LwzIsgF5-dht",
        "colab": {
          "base_uri": "https://localhost:8080/"
        },
        "outputId": "2de106f7-c6ac-484a-a9df-3e1d29c8e48e"
      },
      "source": [
        "rows = 5\n",
        "i = 0\n",
        "while i <= rows - 1:\n",
        "    j = 0\n",
        "    while j < i:\n",
        "        # display space\n",
        "        print('', end=' ')\n",
        "        j += 1\n",
        "    k = i\n",
        "    while k <= rows - 1:\n",
        "        print('*', end=' ')\n",
        "        k += 1\n",
        "    print()\n",
        "    i += 1\n",
        "\n",
        "i = rows - 1\n",
        "while i >= 0:\n",
        "    j = 0\n",
        "    while j < i:\n",
        "        print('', end=' ')\n",
        "        j += 1\n",
        "    k = i\n",
        "    while k <= rows - 1:\n",
        "        print('*', end=' ')\n",
        "        k += 1\n",
        "    print('')\n",
        "    i -= 1"
      ],
      "execution_count": null,
      "outputs": [
        {
          "output_type": "stream",
          "text": [
            "* * * * * \n",
            " * * * * \n",
            "  * * * \n",
            "   * * \n",
            "    * \n",
            "    * \n",
            "   * * \n",
            "  * * * \n",
            " * * * * \n",
            "* * * * * \n"
          ],
          "name": "stdout"
        }
      ]
    },
    {
      "cell_type": "code",
      "metadata": {
        "id": "39aVOCaxCg_B",
        "colab": {
          "base_uri": "https://localhost:8080/"
        },
        "outputId": "99beae17-6d6e-40dd-cd34-8e6ab91c31b8"
      },
      "source": [
        "def printPattern(n) : \n",
        "    j, k = 0, 0\n",
        "    for i in range(1, n + 1) :\n",
        "        if i % 2 != 0 :\n",
        "            for j in range(k + 1, k + i) :\n",
        "                print(j,end = \"\")\n",
        "            j = k + i\n",
        "            print(j)\n",
        "            j += 1\n",
        "            k = j\n",
        "        else :\n",
        "            k = k + i - 1\n",
        "            for j in range(k, k - i + 1, -1) :\n",
        "                print(j, end = \"\")\n",
        "            j = k - i + 1\n",
        "            print(j)\n",
        "if __name__ == \"__main__\" :\n",
        "    n = 5\n",
        "    printPattern(n)"
      ],
      "execution_count": null,
      "outputs": [
        {
          "output_type": "stream",
          "text": [
            "1\n",
            "32\n",
            "456\n",
            "10987\n",
            "1112131415\n"
          ],
          "name": "stdout"
        }
      ]
    }
  ]
}